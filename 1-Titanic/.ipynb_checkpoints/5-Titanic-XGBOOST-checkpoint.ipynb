{
 "cells": [
  {
   "cell_type": "code",
   "execution_count": 2,
   "metadata": {
    "colab": {
     "base_uri": "https://localhost:8080/"
    },
    "executionInfo": {
     "elapsed": 600,
     "status": "ok",
     "timestamp": 1612539949850,
     "user": {
      "displayName": "Thanh Nam NGUYEN",
      "photoUrl": "",
      "userId": "03809949562924165279"
     },
     "user_tz": -60
    },
    "id": "sYeG-Ss5rmHl",
    "outputId": "be3d4df9-707f-49c2-d6e9-e3b4ff675ea6"
   },
   "outputs": [
    {
     "name": "stdout",
     "output_type": "stream",
     "text": [
      "Drive already mounted at /content/gdrive; to attempt to forcibly remount, call drive.mount(\"/content/gdrive\", force_remount=True).\n",
      "/content/gdrive/MyDrive/AI/Projects/Titanic\n"
     ]
    }
   ],
   "source": [
    "from google.colab import drive\n",
    "drive.mount('/content/gdrive')\n",
    "%cd /content/gdrive/MyDrive/AI/Projects/Titanic"
   ]
  },
  {
   "cell_type": "markdown",
   "metadata": {
    "id": "vVC-VerXrdmR"
   },
   "source": [
    "## 1. Load Data"
   ]
  },
  {
   "cell_type": "code",
   "execution_count": 3,
   "metadata": {
    "executionInfo": {
     "elapsed": 1816,
     "status": "ok",
     "timestamp": 1612539956504,
     "user": {
      "displayName": "Thanh Nam NGUYEN",
      "photoUrl": "",
      "userId": "03809949562924165279"
     },
     "user_tz": -60
    },
    "id": "EaGGsBYOrdmS"
   },
   "outputs": [],
   "source": [
    "import numpy as np\n",
    "import pandas as pd\n",
    "import matplotlib.pyplot as plt\n",
    "import seaborn as sns\n",
    "\n",
    "import pickle"
   ]
  },
  {
   "cell_type": "code",
   "execution_count": 4,
   "metadata": {
    "executionInfo": {
     "elapsed": 978,
     "status": "ok",
     "timestamp": 1612539973308,
     "user": {
      "displayName": "Thanh Nam NGUYEN",
      "photoUrl": "",
      "userId": "03809949562924165279"
     },
     "user_tz": -60
    },
    "id": "DszN6jxZrdmS"
   },
   "outputs": [],
   "source": [
    "train_data = pd.read_csv('datasets_for_preprocessing/train_for_pipeline.csv')\n",
    "X_test = pd.read_csv('datasets_for_preprocessing/test_for_pipeline.csv')\n",
    "\n",
    "X_train = train_data.drop(\"Survived\", axis = 1)\n",
    "y_train = train_data[\"Survived\"]\n",
    "\n",
    "df_test = pd.read_csv('datasets/test.csv')"
   ]
  },
  {
   "cell_type": "markdown",
   "metadata": {
    "id": "K0qe_Nf7Hgn5"
   },
   "source": [
    "## 2. Models\n",
    "\n"
   ]
  },
  {
   "cell_type": "markdown",
   "metadata": {
    "id": "bgLX9WxT5aEX"
   },
   "source": []
  },
  {
   "cell_type": "code",
   "execution_count": 14,
   "metadata": {
    "executionInfo": {
     "elapsed": 609,
     "status": "ok",
     "timestamp": 1612540866586,
     "user": {
      "displayName": "Thanh Nam NGUYEN",
      "photoUrl": "",
      "userId": "03809949562924165279"
     },
     "user_tz": -60
    },
    "id": "TjdtBvHY5llm"
   },
   "outputs": [],
   "source": [
    "from sklearn.impute import SimpleImputer\n",
    "from sklearn.ensemble import RandomForestClassifier, GradientBoostingClassifier\n",
    "from sklearn.pipeline import Pipeline\n",
    "from sklearn.model_selection import GridSearchCV, StratifiedKFold\n",
    "\n",
    "cv = StratifiedKFold(n_splits=3, shuffle=False)"
   ]
  },
  {
   "cell_type": "code",
   "execution_count": 15,
   "metadata": {
    "executionInfo": {
     "elapsed": 627,
     "status": "ok",
     "timestamp": 1612540868660,
     "user": {
      "displayName": "Thanh Nam NGUYEN",
      "photoUrl": "",
      "userId": "03809949562924165279"
     },
     "user_tz": -60
    },
    "id": "tIOFFRdg5igi"
   },
   "outputs": [],
   "source": [
    "def for_kaggle_and_save_model(model, model_gridcv):\n",
    "  # a. For Kaggle\n",
    "  y_pred = model_gridcv.predict(X_test)\n",
    "  df_result = pd.DataFrame({\n",
    "        \"PassengerId\": df_test[\"PassengerId\"],\n",
    "        \"Survived\": y_pred})\n",
    "  df_result.to_csv(\"datasets_results/\" + model.__class__.__name__ +\".csv\", index = False)\n",
    "  # b. Save the model\n",
    "  pkl_filename = \"saved_models/\" + model.__class__.__name__  + \".pkl\"\n",
    "  with open(pkl_filename, 'wb') as file:\n",
    "    pickle.dump(model_gridcv, file)"
   ]
  },
  {
   "cell_type": "markdown",
   "metadata": {
    "id": "_l_Vcvf-5qwK"
   },
   "source": [
    "## a. Forest"
   ]
  },
  {
   "cell_type": "code",
   "execution_count": 16,
   "metadata": {
    "colab": {
     "base_uri": "https://localhost:8080/"
    },
    "executionInfo": {
     "elapsed": 23434,
     "status": "ok",
     "timestamp": 1612540894170,
     "user": {
      "displayName": "Thanh Nam NGUYEN",
      "photoUrl": "",
      "userId": "03809949562924165279"
     },
     "user_tz": -60
    },
    "id": "VfOYux4KHZYd",
    "outputId": "18c28fe4-509c-44ca-e92c-c5c09e99daaf"
   },
   "outputs": [
    {
     "data": {
      "text/plain": [
       "GridSearchCV(cv=StratifiedKFold(n_splits=3, random_state=None, shuffle=False),\n",
       "             error_score=nan,\n",
       "             estimator=Pipeline(memory=None,\n",
       "                                steps=[('imp',\n",
       "                                        SimpleImputer(add_indicator=False,\n",
       "                                                      copy=True,\n",
       "                                                      fill_value=None,\n",
       "                                                      missing_values=nan,\n",
       "                                                      strategy='mean',\n",
       "                                                      verbose=0)),\n",
       "                                       ('forest',\n",
       "                                        RandomForestClassifier(bootstrap=True,\n",
       "                                                               ccp_alpha=0.0,\n",
       "                                                               class_weight=None,\n",
       "                                                               criterion='gini',\n",
       "                                                               max_depth...\n",
       "                                                               min_samples_split=2,\n",
       "                                                               min_weight_fraction_leaf=0.0,\n",
       "                                                               n_estimators=100,\n",
       "                                                               n_jobs=None,\n",
       "                                                               oob_score=False,\n",
       "                                                               random_state=123,\n",
       "                                                               verbose=0,\n",
       "                                                               warm_start=False))],\n",
       "                                verbose=False),\n",
       "             iid='deprecated', n_jobs=None,\n",
       "             param_grid={'forest__max_depth': [2, 3, 4, 5, 6],\n",
       "                         'forest__n_estimators': [100, 200, 300, 400]},\n",
       "             pre_dispatch='2*n_jobs', refit=True, return_train_score=False,\n",
       "             scoring='accuracy', verbose=0)"
      ]
     },
     "execution_count": 16,
     "metadata": {
      "tags": []
     },
     "output_type": "execute_result"
    }
   ],
   "source": [
    "imp = SimpleImputer(strategy = 'mean')\n",
    "forest = RandomForestClassifier(random_state=123)\n",
    "\n",
    "steps = [('imp', imp), ('forest', forest)]\n",
    "pipe = Pipeline(steps)\n",
    "\n",
    "param_grid = {'forest__n_estimators': [100, 200, 300, 400], 'forest__max_depth':[2,3,4,5,6]}\n",
    "forest_gridcv = GridSearchCV(pipe, param_grid = param_grid, cv=cv, scoring=\"accuracy\")\n",
    "\n",
    "forest_gridcv.fit(X_train, y_train)"
   ]
  },
  {
   "cell_type": "code",
   "execution_count": 17,
   "metadata": {
    "colab": {
     "base_uri": "https://localhost:8080/"
    },
    "executionInfo": {
     "elapsed": 615,
     "status": "ok",
     "timestamp": 1612540928666,
     "user": {
      "displayName": "Thanh Nam NGUYEN",
      "photoUrl": "",
      "userId": "03809949562924165279"
     },
     "user_tz": -60
    },
    "id": "lLQ0tkcSMFPO",
    "outputId": "944467e9-29ca-4813-fcbf-777d03726d63"
   },
   "outputs": [
    {
     "data": {
      "text/plain": [
       "({'forest__max_depth': 5, 'forest__n_estimators': 100},)"
      ]
     },
     "execution_count": 17,
     "metadata": {
      "tags": []
     },
     "output_type": "execute_result"
    }
   ],
   "source": [
    "forest_gridcv.best_params_,"
   ]
  },
  {
   "cell_type": "code",
   "execution_count": 18,
   "metadata": {
    "colab": {
     "base_uri": "https://localhost:8080/"
    },
    "executionInfo": {
     "elapsed": 587,
     "status": "ok",
     "timestamp": 1612540930741,
     "user": {
      "displayName": "Thanh Nam NGUYEN",
      "photoUrl": "",
      "userId": "03809949562924165279"
     },
     "user_tz": -60
    },
    "id": "XXKxBQp8Jo7j",
    "outputId": "49fbff41-11cb-40e3-96a6-7e468db309a5"
   },
   "outputs": [
    {
     "data": {
      "text/plain": [
       "(0.8181818181818182, 0.8496071829405163)"
      ]
     },
     "execution_count": 18,
     "metadata": {
      "tags": []
     },
     "output_type": "execute_result"
    }
   ],
   "source": [
    " forest_gridcv.best_score_ , forest_gridcv.score(X_train, y_train)"
   ]
  },
  {
   "cell_type": "code",
   "execution_count": 19,
   "metadata": {
    "executionInfo": {
     "elapsed": 619,
     "status": "ok",
     "timestamp": 1612540934453,
     "user": {
      "displayName": "Thanh Nam NGUYEN",
      "photoUrl": "",
      "userId": "03809949562924165279"
     },
     "user_tz": -60
    },
    "id": "ARkTeVLm48AA"
   },
   "outputs": [],
   "source": [
    "for_kaggle_and_save_model(forest, forest_gridcv)"
   ]
  },
  {
   "cell_type": "markdown",
   "metadata": {
    "id": "fhjyIt_S6LLf"
   },
   "source": [
    "## b. Gradient Boosting"
   ]
  },
  {
   "cell_type": "code",
   "execution_count": 22,
   "metadata": {
    "colab": {
     "base_uri": "https://localhost:8080/"
    },
    "executionInfo": {
     "elapsed": 99401,
     "status": "ok",
     "timestamp": 1612541085835,
     "user": {
      "displayName": "Thanh Nam NGUYEN",
      "photoUrl": "",
      "userId": "03809949562924165279"
     },
     "user_tz": -60
    },
    "id": "vRMNn2QU6K0s",
    "outputId": "a235e84c-2c72-4e16-f162-0e87b0ae95a2"
   },
   "outputs": [
    {
     "data": {
      "text/plain": [
       "GridSearchCV(cv=StratifiedKFold(n_splits=3, random_state=None, shuffle=False),\n",
       "             error_score=nan,\n",
       "             estimator=Pipeline(memory=None,\n",
       "                                steps=[('imp',\n",
       "                                        SimpleImputer(add_indicator=False,\n",
       "                                                      copy=True,\n",
       "                                                      fill_value=None,\n",
       "                                                      missing_values=nan,\n",
       "                                                      strategy='mean',\n",
       "                                                      verbose=0)),\n",
       "                                       ('gb',\n",
       "                                        GradientBoostingClassifier(ccp_alpha=0.0,\n",
       "                                                                   criterion='friedman_mse',\n",
       "                                                                   init=None,\n",
       "                                                                   learning_rate=0.1,\n",
       "                                                                   loss='...\n",
       "                                                                   random_state=None,\n",
       "                                                                   subsample=1.0,\n",
       "                                                                   tol=0.0001,\n",
       "                                                                   validation_fraction=0.1,\n",
       "                                                                   verbose=0,\n",
       "                                                                   warm_start=False))],\n",
       "                                verbose=False),\n",
       "             iid='deprecated', n_jobs=None,\n",
       "             param_grid={'gb__learning_rate': [0.001, 0.01, 0.1, 0.2, 0.3],\n",
       "                         'gb__max_depth': [2, 3, 4, 5, 6],\n",
       "                         'gb__n_estimators': [100, 200, 300, 400]},\n",
       "             pre_dispatch='2*n_jobs', refit=True, return_train_score=False,\n",
       "             scoring='accuracy', verbose=0)"
      ]
     },
     "execution_count": 22,
     "metadata": {
      "tags": []
     },
     "output_type": "execute_result"
    }
   ],
   "source": [
    "gb = GradientBoostingClassifier()\n",
    "\n",
    "steps = [('imp', imp), ('gb', gb)]\n",
    "pipe = Pipeline(steps)\n",
    "\n",
    "param_grid = {'gb__n_estimators': [100, 200, 300, 400], 'gb__max_depth':[2,3,4,5,6], \"gb__learning_rate\": [0.001, 0.01, 0.1, 0.2, 0.3]}\n",
    "gb_gridcv = GridSearchCV(pipe, param_grid = param_grid, cv=cv, scoring=\"accuracy\")\n",
    "\n",
    "gb_gridcv.fit(X_train, y_train)"
   ]
  },
  {
   "cell_type": "code",
   "execution_count": 23,
   "metadata": {
    "colab": {
     "base_uri": "https://localhost:8080/"
    },
    "executionInfo": {
     "elapsed": 600,
     "status": "ok",
     "timestamp": 1612541118862,
     "user": {
      "displayName": "Thanh Nam NGUYEN",
      "photoUrl": "",
      "userId": "03809949562924165279"
     },
     "user_tz": -60
    },
    "id": "1OmIv5sw7VzM",
    "outputId": "c71d36b5-09dc-4547-b79d-217197ed0889"
   },
   "outputs": [
    {
     "data": {
      "text/plain": [
       "{'gb__learning_rate': 0.1, 'gb__max_depth': 2, 'gb__n_estimators': 300}"
      ]
     },
     "execution_count": 23,
     "metadata": {
      "tags": []
     },
     "output_type": "execute_result"
    }
   ],
   "source": [
    "gb_gridcv.best_params_"
   ]
  },
  {
   "cell_type": "code",
   "execution_count": 24,
   "metadata": {
    "colab": {
     "base_uri": "https://localhost:8080/"
    },
    "executionInfo": {
     "elapsed": 500,
     "status": "ok",
     "timestamp": 1612541124263,
     "user": {
      "displayName": "Thanh Nam NGUYEN",
      "photoUrl": "",
      "userId": "03809949562924165279"
     },
     "user_tz": -60
    },
    "id": "kGhHNOX855ZB",
    "outputId": "c280b564-d70a-45d4-ee0e-0ed20ab4cd60"
   },
   "outputs": [
    {
     "data": {
      "text/plain": [
       "(0.8215488215488217, 0.8945005611672279)"
      ]
     },
     "execution_count": 24,
     "metadata": {
      "tags": []
     },
     "output_type": "execute_result"
    }
   ],
   "source": [
    "gb_gridcv.best_score_ , gb_gridcv.score(X_train, y_train)"
   ]
  },
  {
   "cell_type": "code",
   "execution_count": 25,
   "metadata": {
    "executionInfo": {
     "elapsed": 608,
     "status": "ok",
     "timestamp": 1612541127358,
     "user": {
      "displayName": "Thanh Nam NGUYEN",
      "photoUrl": "",
      "userId": "03809949562924165279"
     },
     "user_tz": -60
    },
    "id": "GHiLB2kA7Zzh"
   },
   "outputs": [],
   "source": [
    "for_kaggle_and_save_model(gb, gb_gridcv)"
   ]
  }
 ],
 "metadata": {
  "colab": {
   "collapsed_sections": [],
   "name": "3-Tree and the Others.ipynb",
   "provenance": [
    {
     "file_id": "1NelR_PV6XGSPy7DLHpjGCALZVtcK3Fkm",
     "timestamp": 1612449577008
    },
    {
     "file_id": "1zg1eBBddC-S0pf44LdGP6OfDKgGT5MwB",
     "timestamp": 1612447639666
    }
   ]
  },
  "kernelspec": {
   "display_name": "Python [conda env:root]",
   "language": "python",
   "name": "conda-root-py"
  },
  "language_info": {
   "codemirror_mode": {
    "name": "ipython",
    "version": 3
   },
   "file_extension": ".py",
   "mimetype": "text/x-python",
   "name": "python",
   "nbconvert_exporter": "python",
   "pygments_lexer": "ipython3",
   "version": "3.8.5"
  },
  "toc": {
   "base_numbering": 1,
   "nav_menu": {},
   "number_sections": true,
   "sideBar": true,
   "skip_h1_title": false,
   "title_cell": "Table of Contents",
   "title_sidebar": "Contents",
   "toc_cell": false,
   "toc_position": {},
   "toc_section_display": true,
   "toc_window_display": false
  }
 },
 "nbformat": 4,
 "nbformat_minor": 1
}
